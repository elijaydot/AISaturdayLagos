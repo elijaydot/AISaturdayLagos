{
  "nbformat": 4,
  "nbformat_minor": 0,
  "metadata": {
    "colab": {
      "provenance": []
    },
    "kernelspec": {
      "name": "python3",
      "display_name": "Python 3"
    },
    "language_info": {
      "name": "python"
    }
  },
  "cells": [
    {
      "cell_type": "markdown",
      "metadata": {
        "id": "6dc55005"
      },
      "source": [
        "# Load and Inspect Data"
      ]
    },
    {
      "cell_type": "code",
      "metadata": {
        "id": "5e941184"
      },
      "source": [
        "import pandas as pd\n",
        "\n",
        "# Load the dataset\n",
        "url = \"https://raw.githubusercontent.com/justmarkham/pycon-2016-tutorial/master/data/sms.tsv\"\n",
        "df = pd.read_csv(url, sep='\\t', header=None, names=['label', 'message'])\n"
      ],
      "execution_count": null,
      "outputs": []
    },
    {
      "cell_type": "markdown",
      "metadata": {
        "id": "3823e36c"
      },
      "source": [
        "# Display Raw Data"
      ]
    },
    {
      "cell_type": "code",
      "source": [
        "print(df)"
      ],
      "metadata": {
        "colab": {
          "base_uri": "https://localhost:8080/"
        },
        "id": "aJcETMyVEeKi",
        "outputId": "552afe13-d72e-4897-c2e3-d9b4544d7841"
      },
      "execution_count": null,
      "outputs": [
        {
          "output_type": "stream",
          "name": "stdout",
          "text": [
            "     label                                            message\n",
            "0      ham  Go until jurong point, crazy.. Available only ...\n",
            "1      ham                      Ok lar... Joking wif u oni...\n",
            "2     spam  Free entry in 2 a wkly comp to win FA Cup fina...\n",
            "3      ham  U dun say so early hor... U c already then say...\n",
            "4      ham  Nah I don't think he goes to usf, he lives aro...\n",
            "...    ...                                                ...\n",
            "5567  spam  This is the 2nd time we have tried 2 contact u...\n",
            "5568   ham               Will ü b going to esplanade fr home?\n",
            "5569   ham  Pity, * was in mood for that. So...any other s...\n",
            "5570   ham  The guy did some bitching but I acted like i'd...\n",
            "5571   ham                         Rofl. Its true to its name\n",
            "\n",
            "[5572 rows x 2 columns]\n"
          ]
        }
      ]
    },
    {
      "cell_type": "markdown",
      "metadata": {
        "id": "766be86b"
      },
      "source": [
        "# Convert Labels to Numerical"
      ]
    },
    {
      "cell_type": "code",
      "source": [
        "\n",
        "# Convert labels to numerical (0 for ham, 1 for spam)\n",
        "df['label'] = df['label'].map({'ham': 0, 'spam': 1})\n",
        "\n",
        "# Display the first few rows of the dataframe\n",
        "display(df.head())"
      ],
      "metadata": {
        "colab": {
          "base_uri": "https://localhost:8080/",
          "height": 206
        },
        "id": "NSSkFA_sEyEr",
        "outputId": "d9456d30-32d9-4040-8707-dfbe539324b3"
      },
      "execution_count": null,
      "outputs": [
        {
          "output_type": "display_data",
          "data": {
            "text/plain": [
              "   label                                            message\n",
              "0      0  Go until jurong point, crazy.. Available only ...\n",
              "1      0                      Ok lar... Joking wif u oni...\n",
              "2      1  Free entry in 2 a wkly comp to win FA Cup fina...\n",
              "3      0  U dun say so early hor... U c already then say...\n",
              "4      0  Nah I don't think he goes to usf, he lives aro..."
            ],
            "text/html": [
              "\n",
              "  <div id=\"df-52b00bf7-eafd-41bc-a015-a1de86d38edd\" class=\"colab-df-container\">\n",
              "    <div>\n",
              "<style scoped>\n",
              "    .dataframe tbody tr th:only-of-type {\n",
              "        vertical-align: middle;\n",
              "    }\n",
              "\n",
              "    .dataframe tbody tr th {\n",
              "        vertical-align: top;\n",
              "    }\n",
              "\n",
              "    .dataframe thead th {\n",
              "        text-align: right;\n",
              "    }\n",
              "</style>\n",
              "<table border=\"1\" class=\"dataframe\">\n",
              "  <thead>\n",
              "    <tr style=\"text-align: right;\">\n",
              "      <th></th>\n",
              "      <th>label</th>\n",
              "      <th>message</th>\n",
              "    </tr>\n",
              "  </thead>\n",
              "  <tbody>\n",
              "    <tr>\n",
              "      <th>0</th>\n",
              "      <td>0</td>\n",
              "      <td>Go until jurong point, crazy.. Available only ...</td>\n",
              "    </tr>\n",
              "    <tr>\n",
              "      <th>1</th>\n",
              "      <td>0</td>\n",
              "      <td>Ok lar... Joking wif u oni...</td>\n",
              "    </tr>\n",
              "    <tr>\n",
              "      <th>2</th>\n",
              "      <td>1</td>\n",
              "      <td>Free entry in 2 a wkly comp to win FA Cup fina...</td>\n",
              "    </tr>\n",
              "    <tr>\n",
              "      <th>3</th>\n",
              "      <td>0</td>\n",
              "      <td>U dun say so early hor... U c already then say...</td>\n",
              "    </tr>\n",
              "    <tr>\n",
              "      <th>4</th>\n",
              "      <td>0</td>\n",
              "      <td>Nah I don't think he goes to usf, he lives aro...</td>\n",
              "    </tr>\n",
              "  </tbody>\n",
              "</table>\n",
              "</div>\n",
              "    <div class=\"colab-df-buttons\">\n",
              "\n",
              "  <div class=\"colab-df-container\">\n",
              "    <button class=\"colab-df-convert\" onclick=\"convertToInteractive('df-52b00bf7-eafd-41bc-a015-a1de86d38edd')\"\n",
              "            title=\"Convert this dataframe to an interactive table.\"\n",
              "            style=\"display:none;\">\n",
              "\n",
              "  <svg xmlns=\"http://www.w3.org/2000/svg\" height=\"24px\" viewBox=\"0 -960 960 960\">\n",
              "    <path d=\"M120-120v-720h720v720H120Zm60-500h600v-160H180v160Zm220 220h160v-160H400v160Zm0 220h160v-160H400v160ZM180-400h160v-160H180v160Zm440 0h160v-160H620v160ZM180-180h160v-160H180v160Zm440 0h160v-160H620v160Z\"/>\n",
              "  </svg>\n",
              "    </button>\n",
              "\n",
              "  <style>\n",
              "    .colab-df-container {\n",
              "      display:flex;\n",
              "      gap: 12px;\n",
              "    }\n",
              "\n",
              "    .colab-df-convert {\n",
              "      background-color: #E8F0FE;\n",
              "      border: none;\n",
              "      border-radius: 50%;\n",
              "      cursor: pointer;\n",
              "      display: none;\n",
              "      fill: #1967D2;\n",
              "      height: 32px;\n",
              "      padding: 0 0 0 0;\n",
              "      width: 32px;\n",
              "    }\n",
              "\n",
              "    .colab-df-convert:hover {\n",
              "      background-color: #E2EBFA;\n",
              "      box-shadow: 0px 1px 2px rgba(60, 64, 67, 0.3), 0px 1px 3px 1px rgba(60, 64, 67, 0.15);\n",
              "      fill: #174EA6;\n",
              "    }\n",
              "\n",
              "    .colab-df-buttons div {\n",
              "      margin-bottom: 4px;\n",
              "    }\n",
              "\n",
              "    [theme=dark] .colab-df-convert {\n",
              "      background-color: #3B4455;\n",
              "      fill: #D2E3FC;\n",
              "    }\n",
              "\n",
              "    [theme=dark] .colab-df-convert:hover {\n",
              "      background-color: #434B5C;\n",
              "      box-shadow: 0px 1px 3px 1px rgba(0, 0, 0, 0.15);\n",
              "      filter: drop-shadow(0px 1px 2px rgba(0, 0, 0, 0.3));\n",
              "      fill: #FFFFFF;\n",
              "    }\n",
              "  </style>\n",
              "\n",
              "    <script>\n",
              "      const buttonEl =\n",
              "        document.querySelector('#df-52b00bf7-eafd-41bc-a015-a1de86d38edd button.colab-df-convert');\n",
              "      buttonEl.style.display =\n",
              "        google.colab.kernel.accessAllowed ? 'block' : 'none';\n",
              "\n",
              "      async function convertToInteractive(key) {\n",
              "        const element = document.querySelector('#df-52b00bf7-eafd-41bc-a015-a1de86d38edd');\n",
              "        const dataTable =\n",
              "          await google.colab.kernel.invokeFunction('convertToInteractive',\n",
              "                                                    [key], {});\n",
              "        if (!dataTable) return;\n",
              "\n",
              "        const docLinkHtml = 'Like what you see? Visit the ' +\n",
              "          '<a target=\"_blank\" href=https://colab.research.google.com/notebooks/data_table.ipynb>data table notebook</a>'\n",
              "          + ' to learn more about interactive tables.';\n",
              "        element.innerHTML = '';\n",
              "        dataTable['output_type'] = 'display_data';\n",
              "        await google.colab.output.renderOutput(dataTable, element);\n",
              "        const docLink = document.createElement('div');\n",
              "        docLink.innerHTML = docLinkHtml;\n",
              "        element.appendChild(docLink);\n",
              "      }\n",
              "    </script>\n",
              "  </div>\n",
              "\n",
              "\n",
              "    <div id=\"df-064bf436-af3a-4638-8c14-989af8ef0398\">\n",
              "      <button class=\"colab-df-quickchart\" onclick=\"quickchart('df-064bf436-af3a-4638-8c14-989af8ef0398')\"\n",
              "                title=\"Suggest charts\"\n",
              "                style=\"display:none;\">\n",
              "\n",
              "<svg xmlns=\"http://www.w3.org/2000/svg\" height=\"24px\"viewBox=\"0 0 24 24\"\n",
              "     width=\"24px\">\n",
              "    <g>\n",
              "        <path d=\"M19 3H5c-1.1 0-2 .9-2 2v14c0 1.1.9 2 2 2h14c1.1 0 2-.9 2-2V5c0-1.1-.9-2-2-2zM9 17H7v-7h2v7zm4 0h-2V7h2v10zm4 0h-2v-4h2v4z\"/>\n",
              "    </g>\n",
              "</svg>\n",
              "      </button>\n",
              "\n",
              "<style>\n",
              "  .colab-df-quickchart {\n",
              "      --bg-color: #E8F0FE;\n",
              "      --fill-color: #1967D2;\n",
              "      --hover-bg-color: #E2EBFA;\n",
              "      --hover-fill-color: #174EA6;\n",
              "      --disabled-fill-color: #AAA;\n",
              "      --disabled-bg-color: #DDD;\n",
              "  }\n",
              "\n",
              "  [theme=dark] .colab-df-quickchart {\n",
              "      --bg-color: #3B4455;\n",
              "      --fill-color: #D2E3FC;\n",
              "      --hover-bg-color: #434B5C;\n",
              "      --hover-fill-color: #FFFFFF;\n",
              "      --disabled-bg-color: #3B4455;\n",
              "      --disabled-fill-color: #666;\n",
              "  }\n",
              "\n",
              "  .colab-df-quickchart {\n",
              "    background-color: var(--bg-color);\n",
              "    border: none;\n",
              "    border-radius: 50%;\n",
              "    cursor: pointer;\n",
              "    display: none;\n",
              "    fill: var(--fill-color);\n",
              "    height: 32px;\n",
              "    padding: 0;\n",
              "    width: 32px;\n",
              "  }\n",
              "\n",
              "  .colab-df-quickchart:hover {\n",
              "    background-color: var(--hover-bg-color);\n",
              "    box-shadow: 0 1px 2px rgba(60, 64, 67, 0.3), 0 1px 3px 1px rgba(60, 64, 67, 0.15);\n",
              "    fill: var(--button-hover-fill-color);\n",
              "  }\n",
              "\n",
              "  .colab-df-quickchart-complete:disabled,\n",
              "  .colab-df-quickchart-complete:disabled:hover {\n",
              "    background-color: var(--disabled-bg-color);\n",
              "    fill: var(--disabled-fill-color);\n",
              "    box-shadow: none;\n",
              "  }\n",
              "\n",
              "  .colab-df-spinner {\n",
              "    border: 2px solid var(--fill-color);\n",
              "    border-color: transparent;\n",
              "    border-bottom-color: var(--fill-color);\n",
              "    animation:\n",
              "      spin 1s steps(1) infinite;\n",
              "  }\n",
              "\n",
              "  @keyframes spin {\n",
              "    0% {\n",
              "      border-color: transparent;\n",
              "      border-bottom-color: var(--fill-color);\n",
              "      border-left-color: var(--fill-color);\n",
              "    }\n",
              "    20% {\n",
              "      border-color: transparent;\n",
              "      border-left-color: var(--fill-color);\n",
              "      border-top-color: var(--fill-color);\n",
              "    }\n",
              "    30% {\n",
              "      border-color: transparent;\n",
              "      border-left-color: var(--fill-color);\n",
              "      border-top-color: var(--fill-color);\n",
              "      border-right-color: var(--fill-color);\n",
              "    }\n",
              "    40% {\n",
              "      border-color: transparent;\n",
              "      border-right-color: var(--fill-color);\n",
              "      border-top-color: var(--fill-color);\n",
              "    }\n",
              "    60% {\n",
              "      border-color: transparent;\n",
              "      border-right-color: var(--fill-color);\n",
              "    }\n",
              "    80% {\n",
              "      border-color: transparent;\n",
              "      border-right-color: var(--fill-color);\n",
              "      border-bottom-color: var(--fill-color);\n",
              "    }\n",
              "    90% {\n",
              "      border-color: transparent;\n",
              "      border-bottom-color: var(--fill-color);\n",
              "    }\n",
              "  }\n",
              "</style>\n",
              "\n",
              "      <script>\n",
              "        async function quickchart(key) {\n",
              "          const quickchartButtonEl =\n",
              "            document.querySelector('#' + key + ' button');\n",
              "          quickchartButtonEl.disabled = true;  // To prevent multiple clicks.\n",
              "          quickchartButtonEl.classList.add('colab-df-spinner');\n",
              "          try {\n",
              "            const charts = await google.colab.kernel.invokeFunction(\n",
              "                'suggestCharts', [key], {});\n",
              "          } catch (error) {\n",
              "            console.error('Error during call to suggestCharts:', error);\n",
              "          }\n",
              "          quickchartButtonEl.classList.remove('colab-df-spinner');\n",
              "          quickchartButtonEl.classList.add('colab-df-quickchart-complete');\n",
              "        }\n",
              "        (() => {\n",
              "          let quickchartButtonEl =\n",
              "            document.querySelector('#df-064bf436-af3a-4638-8c14-989af8ef0398 button');\n",
              "          quickchartButtonEl.style.display =\n",
              "            google.colab.kernel.accessAllowed ? 'block' : 'none';\n",
              "        })();\n",
              "      </script>\n",
              "    </div>\n",
              "\n",
              "    </div>\n",
              "  </div>\n"
            ],
            "application/vnd.google.colaboratory.intrinsic+json": {
              "type": "dataframe",
              "summary": "{\n  \"name\": \"display(df\",\n  \"rows\": 5,\n  \"fields\": [\n    {\n      \"column\": \"label\",\n      \"properties\": {\n        \"dtype\": \"number\",\n        \"std\": 0,\n        \"min\": 0,\n        \"max\": 1,\n        \"num_unique_values\": 2,\n        \"samples\": [\n          1,\n          0\n        ],\n        \"semantic_type\": \"\",\n        \"description\": \"\"\n      }\n    },\n    {\n      \"column\": \"message\",\n      \"properties\": {\n        \"dtype\": \"string\",\n        \"num_unique_values\": 5,\n        \"samples\": [\n          \"Ok lar... Joking wif u oni...\",\n          \"Nah I don't think he goes to usf, he lives around here though\"\n        ],\n        \"semantic_type\": \"\",\n        \"description\": \"\"\n      }\n    }\n  ]\n}"
            }
          },
          "metadata": {}
        }
      ]
    },
    {
      "cell_type": "markdown",
      "metadata": {
        "id": "e26cccf3"
      },
      "source": [
        "# Basic Data Exploration"
      ]
    },
    {
      "cell_type": "code",
      "metadata": {
        "colab": {
          "base_uri": "https://localhost:8080/",
          "height": 482
        },
        "id": "674f0e15",
        "outputId": "2a7ede53-466c-4d74-f704-47bb37fcf88c"
      },
      "source": [
        "# Check for missing values\n",
        "display(df.isnull().sum())\n",
        "\n",
        "# Get basic info about the dataframe\n",
        "display(df.info())\n",
        "\n",
        "# View the distribution of the target variable\n",
        "display(df['label'].value_counts())"
      ],
      "execution_count": null,
      "outputs": [
        {
          "output_type": "display_data",
          "data": {
            "text/plain": [
              "label      0\n",
              "message    0\n",
              "dtype: int64"
            ],
            "text/html": [
              "<div>\n",
              "<style scoped>\n",
              "    .dataframe tbody tr th:only-of-type {\n",
              "        vertical-align: middle;\n",
              "    }\n",
              "\n",
              "    .dataframe tbody tr th {\n",
              "        vertical-align: top;\n",
              "    }\n",
              "\n",
              "    .dataframe thead th {\n",
              "        text-align: right;\n",
              "    }\n",
              "</style>\n",
              "<table border=\"1\" class=\"dataframe\">\n",
              "  <thead>\n",
              "    <tr style=\"text-align: right;\">\n",
              "      <th></th>\n",
              "      <th>0</th>\n",
              "    </tr>\n",
              "  </thead>\n",
              "  <tbody>\n",
              "    <tr>\n",
              "      <th>label</th>\n",
              "      <td>0</td>\n",
              "    </tr>\n",
              "    <tr>\n",
              "      <th>message</th>\n",
              "      <td>0</td>\n",
              "    </tr>\n",
              "  </tbody>\n",
              "</table>\n",
              "</div><br><label><b>dtype:</b> int64</label>"
            ]
          },
          "metadata": {}
        },
        {
          "output_type": "stream",
          "name": "stdout",
          "text": [
            "<class 'pandas.core.frame.DataFrame'>\n",
            "RangeIndex: 5572 entries, 0 to 5571\n",
            "Data columns (total 2 columns):\n",
            " #   Column   Non-Null Count  Dtype \n",
            "---  ------   --------------  ----- \n",
            " 0   label    5572 non-null   int64 \n",
            " 1   message  5572 non-null   object\n",
            "dtypes: int64(1), object(1)\n",
            "memory usage: 87.2+ KB\n"
          ]
        },
        {
          "output_type": "display_data",
          "data": {
            "text/plain": [
              "None"
            ]
          },
          "metadata": {}
        },
        {
          "output_type": "display_data",
          "data": {
            "text/plain": [
              "label\n",
              "0    4825\n",
              "1     747\n",
              "Name: count, dtype: int64"
            ],
            "text/html": [
              "<div>\n",
              "<style scoped>\n",
              "    .dataframe tbody tr th:only-of-type {\n",
              "        vertical-align: middle;\n",
              "    }\n",
              "\n",
              "    .dataframe tbody tr th {\n",
              "        vertical-align: top;\n",
              "    }\n",
              "\n",
              "    .dataframe thead th {\n",
              "        text-align: right;\n",
              "    }\n",
              "</style>\n",
              "<table border=\"1\" class=\"dataframe\">\n",
              "  <thead>\n",
              "    <tr style=\"text-align: right;\">\n",
              "      <th></th>\n",
              "      <th>count</th>\n",
              "    </tr>\n",
              "    <tr>\n",
              "      <th>label</th>\n",
              "      <th></th>\n",
              "    </tr>\n",
              "  </thead>\n",
              "  <tbody>\n",
              "    <tr>\n",
              "      <th>0</th>\n",
              "      <td>4825</td>\n",
              "    </tr>\n",
              "    <tr>\n",
              "      <th>1</th>\n",
              "      <td>747</td>\n",
              "    </tr>\n",
              "  </tbody>\n",
              "</table>\n",
              "</div><br><label><b>dtype:</b> int64</label>"
            ]
          },
          "metadata": {}
        }
      ]
    },
    {
      "cell_type": "markdown",
      "metadata": {
        "id": "993fa025"
      },
      "source": [
        "# Text Preprocessing"
      ]
    },
    {
      "cell_type": "code",
      "metadata": {
        "colab": {
          "base_uri": "https://localhost:8080/",
          "height": 241
        },
        "id": "0c3c07f5",
        "outputId": "93dc685c-e4ac-4d64-c769-7d14f191a683"
      },
      "source": [
        "# Remove punctuation\n",
        "df['message'] = df['message'].str.replace(r'[^\\w\\s]', '', regex=True)\n",
        "\n",
        "# Convert text to lowercase\n",
        "df['message'] = df['message'].str.lower()\n",
        "\n",
        "# Remove stop words\n",
        "import nltk\n",
        "nltk.download('stopwords')\n",
        "from nltk.corpus import stopwords\n",
        "\n",
        "stop_words = set(stopwords.words('english'))\n",
        "df['message'] = df['message'].apply(lambda x: ' '.join([word for word in x.split() if word not in stop_words]))\n",
        "\n",
        "display(df.head())"
      ],
      "execution_count": null,
      "outputs": [
        {
          "output_type": "stream",
          "name": "stderr",
          "text": [
            "[nltk_data] Downloading package stopwords to /root/nltk_data...\n",
            "[nltk_data]   Unzipping corpora/stopwords.zip.\n"
          ]
        },
        {
          "output_type": "display_data",
          "data": {
            "text/plain": [
              "   label                                            message\n",
              "0      0  go jurong point crazy available bugis n great ...\n",
              "1      0                            ok lar joking wif u oni\n",
              "2      1  free entry 2 wkly comp win fa cup final tkts 2...\n",
              "3      0                u dun say early hor u c already say\n",
              "4      0        nah dont think goes usf lives around though"
            ],
            "text/html": [
              "\n",
              "  <div id=\"df-6e10af8a-e030-4adc-ae47-cdbbd74a9a4e\" class=\"colab-df-container\">\n",
              "    <div>\n",
              "<style scoped>\n",
              "    .dataframe tbody tr th:only-of-type {\n",
              "        vertical-align: middle;\n",
              "    }\n",
              "\n",
              "    .dataframe tbody tr th {\n",
              "        vertical-align: top;\n",
              "    }\n",
              "\n",
              "    .dataframe thead th {\n",
              "        text-align: right;\n",
              "    }\n",
              "</style>\n",
              "<table border=\"1\" class=\"dataframe\">\n",
              "  <thead>\n",
              "    <tr style=\"text-align: right;\">\n",
              "      <th></th>\n",
              "      <th>label</th>\n",
              "      <th>message</th>\n",
              "    </tr>\n",
              "  </thead>\n",
              "  <tbody>\n",
              "    <tr>\n",
              "      <th>0</th>\n",
              "      <td>0</td>\n",
              "      <td>go jurong point crazy available bugis n great ...</td>\n",
              "    </tr>\n",
              "    <tr>\n",
              "      <th>1</th>\n",
              "      <td>0</td>\n",
              "      <td>ok lar joking wif u oni</td>\n",
              "    </tr>\n",
              "    <tr>\n",
              "      <th>2</th>\n",
              "      <td>1</td>\n",
              "      <td>free entry 2 wkly comp win fa cup final tkts 2...</td>\n",
              "    </tr>\n",
              "    <tr>\n",
              "      <th>3</th>\n",
              "      <td>0</td>\n",
              "      <td>u dun say early hor u c already say</td>\n",
              "    </tr>\n",
              "    <tr>\n",
              "      <th>4</th>\n",
              "      <td>0</td>\n",
              "      <td>nah dont think goes usf lives around though</td>\n",
              "    </tr>\n",
              "  </tbody>\n",
              "</table>\n",
              "</div>\n",
              "    <div class=\"colab-df-buttons\">\n",
              "\n",
              "  <div class=\"colab-df-container\">\n",
              "    <button class=\"colab-df-convert\" onclick=\"convertToInteractive('df-6e10af8a-e030-4adc-ae47-cdbbd74a9a4e')\"\n",
              "            title=\"Convert this dataframe to an interactive table.\"\n",
              "            style=\"display:none;\">\n",
              "\n",
              "  <svg xmlns=\"http://www.w3.org/2000/svg\" height=\"24px\" viewBox=\"0 -960 960 960\">\n",
              "    <path d=\"M120-120v-720h720v720H120Zm60-500h600v-160H180v160Zm220 220h160v-160H400v160Zm0 220h160v-160H400v160ZM180-400h160v-160H180v160Zm440 0h160v-160H620v160ZM180-180h160v-160H180v160Zm440 0h160v-160H620v160Z\"/>\n",
              "  </svg>\n",
              "    </button>\n",
              "\n",
              "  <style>\n",
              "    .colab-df-container {\n",
              "      display:flex;\n",
              "      gap: 12px;\n",
              "    }\n",
              "\n",
              "    .colab-df-convert {\n",
              "      background-color: #E8F0FE;\n",
              "      border: none;\n",
              "      border-radius: 50%;\n",
              "      cursor: pointer;\n",
              "      display: none;\n",
              "      fill: #1967D2;\n",
              "      height: 32px;\n",
              "      padding: 0 0 0 0;\n",
              "      width: 32px;\n",
              "    }\n",
              "\n",
              "    .colab-df-convert:hover {\n",
              "      background-color: #E2EBFA;\n",
              "      box-shadow: 0px 1px 2px rgba(60, 64, 67, 0.3), 0px 1px 3px 1px rgba(60, 64, 67, 0.15);\n",
              "      fill: #174EA6;\n",
              "    }\n",
              "\n",
              "    .colab-df-buttons div {\n",
              "      margin-bottom: 4px;\n",
              "    }\n",
              "\n",
              "    [theme=dark] .colab-df-convert {\n",
              "      background-color: #3B4455;\n",
              "      fill: #D2E3FC;\n",
              "    }\n",
              "\n",
              "    [theme=dark] .colab-df-convert:hover {\n",
              "      background-color: #434B5C;\n",
              "      box-shadow: 0px 1px 3px 1px rgba(0, 0, 0, 0.15);\n",
              "      filter: drop-shadow(0px 1px 2px rgba(0, 0, 0, 0.3));\n",
              "      fill: #FFFFFF;\n",
              "    }\n",
              "  </style>\n",
              "\n",
              "    <script>\n",
              "      const buttonEl =\n",
              "        document.querySelector('#df-6e10af8a-e030-4adc-ae47-cdbbd74a9a4e button.colab-df-convert');\n",
              "      buttonEl.style.display =\n",
              "        google.colab.kernel.accessAllowed ? 'block' : 'none';\n",
              "\n",
              "      async function convertToInteractive(key) {\n",
              "        const element = document.querySelector('#df-6e10af8a-e030-4adc-ae47-cdbbd74a9a4e');\n",
              "        const dataTable =\n",
              "          await google.colab.kernel.invokeFunction('convertToInteractive',\n",
              "                                                    [key], {});\n",
              "        if (!dataTable) return;\n",
              "\n",
              "        const docLinkHtml = 'Like what you see? Visit the ' +\n",
              "          '<a target=\"_blank\" href=https://colab.research.google.com/notebooks/data_table.ipynb>data table notebook</a>'\n",
              "          + ' to learn more about interactive tables.';\n",
              "        element.innerHTML = '';\n",
              "        dataTable['output_type'] = 'display_data';\n",
              "        await google.colab.output.renderOutput(dataTable, element);\n",
              "        const docLink = document.createElement('div');\n",
              "        docLink.innerHTML = docLinkHtml;\n",
              "        element.appendChild(docLink);\n",
              "      }\n",
              "    </script>\n",
              "  </div>\n",
              "\n",
              "\n",
              "    <div id=\"df-3f248975-a7da-425d-93c1-3ac390a03b74\">\n",
              "      <button class=\"colab-df-quickchart\" onclick=\"quickchart('df-3f248975-a7da-425d-93c1-3ac390a03b74')\"\n",
              "                title=\"Suggest charts\"\n",
              "                style=\"display:none;\">\n",
              "\n",
              "<svg xmlns=\"http://www.w3.org/2000/svg\" height=\"24px\"viewBox=\"0 0 24 24\"\n",
              "     width=\"24px\">\n",
              "    <g>\n",
              "        <path d=\"M19 3H5c-1.1 0-2 .9-2 2v14c0 1.1.9 2 2 2h14c1.1 0 2-.9 2-2V5c0-1.1-.9-2-2-2zM9 17H7v-7h2v7zm4 0h-2V7h2v10zm4 0h-2v-4h2v4z\"/>\n",
              "    </g>\n",
              "</svg>\n",
              "      </button>\n",
              "\n",
              "<style>\n",
              "  .colab-df-quickchart {\n",
              "      --bg-color: #E8F0FE;\n",
              "      --fill-color: #1967D2;\n",
              "      --hover-bg-color: #E2EBFA;\n",
              "      --hover-fill-color: #174EA6;\n",
              "      --disabled-fill-color: #AAA;\n",
              "      --disabled-bg-color: #DDD;\n",
              "  }\n",
              "\n",
              "  [theme=dark] .colab-df-quickchart {\n",
              "      --bg-color: #3B4455;\n",
              "      --fill-color: #D2E3FC;\n",
              "      --hover-bg-color: #434B5C;\n",
              "      --hover-fill-color: #FFFFFF;\n",
              "      --disabled-bg-color: #3B4455;\n",
              "      --disabled-fill-color: #666;\n",
              "  }\n",
              "\n",
              "  .colab-df-quickchart {\n",
              "    background-color: var(--bg-color);\n",
              "    border: none;\n",
              "    border-radius: 50%;\n",
              "    cursor: pointer;\n",
              "    display: none;\n",
              "    fill: var(--fill-color);\n",
              "    height: 32px;\n",
              "    padding: 0;\n",
              "    width: 32px;\n",
              "  }\n",
              "\n",
              "  .colab-df-quickchart:hover {\n",
              "    background-color: var(--hover-bg-color);\n",
              "    box-shadow: 0 1px 2px rgba(60, 64, 67, 0.3), 0 1px 3px 1px rgba(60, 64, 67, 0.15);\n",
              "    fill: var(--button-hover-fill-color);\n",
              "  }\n",
              "\n",
              "  .colab-df-quickchart-complete:disabled,\n",
              "  .colab-df-quickchart-complete:disabled:hover {\n",
              "    background-color: var(--disabled-bg-color);\n",
              "    fill: var(--disabled-fill-color);\n",
              "    box-shadow: none;\n",
              "  }\n",
              "\n",
              "  .colab-df-spinner {\n",
              "    border: 2px solid var(--fill-color);\n",
              "    border-color: transparent;\n",
              "    border-bottom-color: var(--fill-color);\n",
              "    animation:\n",
              "      spin 1s steps(1) infinite;\n",
              "  }\n",
              "\n",
              "  @keyframes spin {\n",
              "    0% {\n",
              "      border-color: transparent;\n",
              "      border-bottom-color: var(--fill-color);\n",
              "      border-left-color: var(--fill-color);\n",
              "    }\n",
              "    20% {\n",
              "      border-color: transparent;\n",
              "      border-left-color: var(--fill-color);\n",
              "      border-top-color: var(--fill-color);\n",
              "    }\n",
              "    30% {\n",
              "      border-color: transparent;\n",
              "      border-left-color: var(--fill-color);\n",
              "      border-top-color: var(--fill-color);\n",
              "      border-right-color: var(--fill-color);\n",
              "    }\n",
              "    40% {\n",
              "      border-color: transparent;\n",
              "      border-right-color: var(--fill-color);\n",
              "      border-top-color: var(--fill-color);\n",
              "    }\n",
              "    60% {\n",
              "      border-color: transparent;\n",
              "      border-right-color: var(--fill-color);\n",
              "    }\n",
              "    80% {\n",
              "      border-color: transparent;\n",
              "      border-right-color: var(--fill-color);\n",
              "      border-bottom-color: var(--fill-color);\n",
              "    }\n",
              "    90% {\n",
              "      border-color: transparent;\n",
              "      border-bottom-color: var(--fill-color);\n",
              "    }\n",
              "  }\n",
              "</style>\n",
              "\n",
              "      <script>\n",
              "        async function quickchart(key) {\n",
              "          const quickchartButtonEl =\n",
              "            document.querySelector('#' + key + ' button');\n",
              "          quickchartButtonEl.disabled = true;  // To prevent multiple clicks.\n",
              "          quickchartButtonEl.classList.add('colab-df-spinner');\n",
              "          try {\n",
              "            const charts = await google.colab.kernel.invokeFunction(\n",
              "                'suggestCharts', [key], {});\n",
              "          } catch (error) {\n",
              "            console.error('Error during call to suggestCharts:', error);\n",
              "          }\n",
              "          quickchartButtonEl.classList.remove('colab-df-spinner');\n",
              "          quickchartButtonEl.classList.add('colab-df-quickchart-complete');\n",
              "        }\n",
              "        (() => {\n",
              "          let quickchartButtonEl =\n",
              "            document.querySelector('#df-3f248975-a7da-425d-93c1-3ac390a03b74 button');\n",
              "          quickchartButtonEl.style.display =\n",
              "            google.colab.kernel.accessAllowed ? 'block' : 'none';\n",
              "        })();\n",
              "      </script>\n",
              "    </div>\n",
              "\n",
              "    </div>\n",
              "  </div>\n"
            ],
            "application/vnd.google.colaboratory.intrinsic+json": {
              "type": "dataframe",
              "summary": "{\n  \"name\": \"display(df\",\n  \"rows\": 5,\n  \"fields\": [\n    {\n      \"column\": \"label\",\n      \"properties\": {\n        \"dtype\": \"number\",\n        \"std\": 0,\n        \"min\": 0,\n        \"max\": 1,\n        \"num_unique_values\": 2,\n        \"samples\": [\n          1,\n          0\n        ],\n        \"semantic_type\": \"\",\n        \"description\": \"\"\n      }\n    },\n    {\n      \"column\": \"message\",\n      \"properties\": {\n        \"dtype\": \"string\",\n        \"num_unique_values\": 5,\n        \"samples\": [\n          \"ok lar joking wif u oni\",\n          \"nah dont think goes usf lives around though\"\n        ],\n        \"semantic_type\": \"\",\n        \"description\": \"\"\n      }\n    }\n  ]\n}"
            }
          },
          "metadata": {}
        }
      ]
    },
    {
      "cell_type": "markdown",
      "metadata": {
        "id": "fd778181"
      },
      "source": [
        "# Display Preprocessed Data"
      ]
    },
    {
      "cell_type": "code",
      "source": [
        "print((df.head(30)))"
      ],
      "metadata": {
        "colab": {
          "base_uri": "https://localhost:8080/"
        },
        "id": "X3ympQk7DWEH",
        "outputId": "7f569b66-1bbf-4b20-a75e-23190f41a519"
      },
      "execution_count": null,
      "outputs": [
        {
          "output_type": "stream",
          "name": "stdout",
          "text": [
            "    label                                            message\n",
            "0       0  go jurong point crazy available bugis n great ...\n",
            "1       0                            ok lar joking wif u oni\n",
            "2       1  free entry 2 wkly comp win fa cup final tkts 2...\n",
            "3       0                u dun say early hor u c already say\n",
            "4       0        nah dont think goes usf lives around though\n",
            "5       1  freemsg hey darling 3 weeks word back id like ...\n",
            "6       0     even brother like speak treat like aids patent\n",
            "7       0  per request melle melle oru minnaminunginte nu...\n",
            "8       1  winner valued network customer selected receiv...\n",
            "9       1  mobile 11 months u r entitled update latest co...\n",
            "10      0  im gonna home soon dont want talk stuff anymor...\n",
            "11      1  six chances win cash 100 20000 pounds txt csh1...\n",
            "12      1  urgent 1 week free membership 100000 prize jac...\n",
            "13      0  ive searching right words thank breather promi...\n",
            "14      0                                        date sunday\n",
            "15      1  xxxmobilemovieclub use credit click wap link n...\n",
            "16      0                                    oh kim watching\n",
            "17      0  eh u remember 2 spell name yes v naughty make ...\n",
            "18      0             fine thats way u feel thats way gota b\n",
            "19      1  england v macedonia dont miss goalsteam news t...\n",
            "20      0                               seriously spell name\n",
            "21      0                 im going try 2 months ha ha joking\n",
            "22      0                     ü pay first lar da stock comin\n",
            "23      0  aft finish lunch go str lor ard 3 smth lor u f...\n",
            "24      0                 ffffffffff alright way meet sooner\n",
            "25      0  forced eat slice im really hungry tho sucks ma...\n",
            "26      0                              lol always convincing\n",
            "27      0  catch bus frying egg make tea eating moms left...\n",
            "28      0   im back amp packing car ill let know theres room\n",
            "29      0           ahhh work vaguely remember feel like lol\n"
          ]
        }
      ]
    },
    {
      "cell_type": "markdown",
      "metadata": {
        "id": "50e11bd5"
      },
      "source": [
        "# Exploratory Data Analysis (Word Frequency and Message Length)"
      ]
    },
    {
      "cell_type": "code",
      "metadata": {
        "colab": {
          "base_uri": "https://localhost:8080/",
          "height": 930
        },
        "id": "c968bb8c",
        "outputId": "ff03b382-63e4-4072-c9fa-dc251b5618d2"
      },
      "source": [
        "from collections import Counter\n",
        "import matplotlib.pyplot as plt\n",
        "import seaborn as sns\n",
        "\n",
        "# Get all words from the preprocessed messages\n",
        "all_words = ' '.join(df['message']).split()\n",
        "\n",
        "# Get the most common words\n",
        "most_common_words = Counter(all_words).most_common(20)\n",
        "\n",
        "# Display the most common words\n",
        "display(\"Most common words:\", most_common_words)\n",
        "\n",
        "# Plot the distribution of message lengths\n",
        "df['message_length'] = df['message'].apply(lambda x: len(x.split()))\n",
        "\n",
        "plt.figure(figsize=(10, 6))\n",
        "sns.histplot(df['message_length'], bins=50, kde=True)\n",
        "plt.title('Distribution of Message Lengths')\n",
        "plt.xlabel('Message Length (number of words)')\n",
        "plt.ylabel('Frequency')\n",
        "plt.show()"
      ],
      "execution_count": null,
      "outputs": [
        {
          "output_type": "display_data",
          "data": {
            "text/plain": [
              "'Most common words:'"
            ],
            "application/vnd.google.colaboratory.intrinsic+json": {
              "type": "string"
            }
          },
          "metadata": {}
        },
        {
          "output_type": "display_data",
          "data": {
            "text/plain": [
              "[('u', 1132),\n",
              " ('call', 578),\n",
              " ('2', 482),\n",
              " ('im', 473),\n",
              " ('ur', 390),\n",
              " ('get', 386),\n",
              " ('dont', 298),\n",
              " ('4', 293),\n",
              " ('go', 281),\n",
              " ('ok', 278),\n",
              " ('ltgt', 276),\n",
              " ('free', 275),\n",
              " ('know', 257),\n",
              " ('like', 244),\n",
              " ('ill', 243),\n",
              " ('got', 239),\n",
              " ('good', 236),\n",
              " ('come', 229),\n",
              " ('time', 208),\n",
              " ('day', 203)]"
            ]
          },
          "metadata": {}
        },
        {
          "output_type": "display_data",
          "data": {
            "text/plain": [
              "<Figure size 1000x600 with 1 Axes>"
            ],
            "image/png": "[encoded data removed]"
          },
          "metadata": {}
        }
      ]
    },
    {
      "cell_type": "markdown",
      "metadata": {
        "id": "51521409"
      },
      "source": [
        "# Model Training and Evaluation (Logistic Regression)"
      ]
    },
    {
      "cell_type": "code",
      "metadata": {
        "colab": {
          "base_uri": "https://localhost:8080/",
          "height": 260
        },
        "id": "cec3031c",
        "outputId": "cc32cc78-2f21-4e19-b29a-3abb34b0753c"
      },
      "source": [
        "from sklearn.model_selection import train_test_split\n",
        "from sklearn.feature_extraction.text import TfidfVectorizer\n",
        "from sklearn.linear_model import LogisticRegression\n",
        "from sklearn.metrics import accuracy_score, classification_report, confusion_matrix\n",
        "\n",
        "# Split data into training and testing sets\n",
        "X_train, X_test, y_train, y_test = train_test_split(df['message'], df['label'], test_size=0.25, random_state=42)\n",
        "\n",
        "# Vectorize the text data using TF-IDF\n",
        "tfidf_vectorizer = TfidfVectorizer(max_features=5000)\n",
        "X_train_tfidf = tfidf_vectorizer.fit_transform(X_train)\n",
        "X_test_tfidf = tfidf_vectorizer.transform(X_test)\n",
        "\n",
        "# Train a Logistic Regression model\n",
        "model = LogisticRegression()\n",
        "model.fit(X_train_tfidf, y_train)\n",
        "\n",
        "# Predict on the test set\n",
        "y_pred = model.predict(X_test_tfidf)\n",
        "\n",
        "# Evaluate the model\n",
        "accuracy = accuracy_score(y_test, y_pred)\n",
        "classification_rep = classification_report(y_test, y_pred)\n",
        "conf_matrix = confusion_matrix(y_test, y_pred)\n",
        "\n",
        "print(f\"Accuracy: {accuracy}\")\n",
        "print(\"Classification Report:\")\n",
        "print(classification_rep)\n",
        "print(\"Confusion Matrix:\")\n",
        "display(conf_matrix)"
      ],
      "execution_count": null,
      "outputs": [
        {
          "output_type": "stream",
          "name": "stdout",
          "text": [
            "Accuracy: 0.964824120603015\n",
            "Classification Report:\n",
            "              precision    recall  f1-score   support\n",
            "\n",
            "           0       0.96      1.00      0.98      1207\n",
            "           1       0.99      0.74      0.85       186\n",
            "\n",
            "    accuracy                           0.96      1393\n",
            "   macro avg       0.98      0.87      0.91      1393\n",
            "weighted avg       0.97      0.96      0.96      1393\n",
            "\n",
            "Confusion Matrix:\n"
          ]
        },
        {
          "output_type": "display_data",
          "data": {
            "text/plain": [
              "array([[1206,    1],\n",
              "       [  48,  138]])"
            ]
          },
          "metadata": {}
        }
      ]
    },
    {
      "cell_type": "markdown",
      "metadata": {
        "id": "2584acbf"
      },
      "source": [
        "# Analysis Summary and Next Steps"
      ]
    },
    {
      "cell_type": "markdown",
      "metadata": {
        "id": "93f78a6e"
      },
      "source": [
        "\n",
        "**1. Data Analysis Key Findings:**\n",
        "\n",
        "*   The dataset contains 5572 SMS messages with labels indicating whether they are 'ham' (not spam) or 'spam'.\n",
        "*   There are no missing values in the dataset.\n",
        "*   The dataset is imbalanced, with a significantly higher number of 'ham' messages (4825) compared to 'spam' messages (747).\n",
        "*   The text data was preprocessed by removing punctuation, converting to lowercase, and removing stop words.\n",
        "*   The most common words in the preprocessed messages were identified, with 'u', 'call', and '2' being the most frequent.\n",
        "*   The distribution of message lengths shows that most messages are relatively short.\n",
        "*   A Logistic Regression model was trained on the TF-IDF vectorized text data to classify messages as spam or ham.\n",
        "*   The model achieved an accuracy of approximately 96.5%.\n",
        "*   The classification report shows high precision and recall for 'ham' messages, but slightly lower recall for 'spam' messages, which is expected given the class imbalance.\n",
        "*   The confusion matrix indicates that the model correctly classified most of the messages, with a small number of false positives and false negatives.\n",
        "\n",
        "**2. Insights or Next Steps:**\n",
        "\n",
        "*   The current model performs well, but the class imbalance might be affecting the performance on the 'spam' class.\n",
        "*   **Further exploration:** Investigate techniques to handle class imbalance, such as oversampling the minority class (spam) or undersampling the majority class (ham).\n",
        "*   **Model improvement:** Experiment with other text vectorization techniques (e.g., Word2Vec, GloVe) and different classification models (e.g., Naive Bayes, Support Vector Machines, or deep learning models like LSTMs or CNNs) to potentially improve performance, especially for detecting spam.\n",
        "*   **Error analysis:** Analyze the false positives and false negatives from the confusion matrix to understand why the model misclassified those messages and identify potential areas for improvement in preprocessing or feature engineering.\n",
        "*   **Deployment:** If the performance is satisfactory, the trained model can be saved and deployed to classify new, unseen SMS messages."
      ]
    },
    {
      "cell_type": "code",
      "source": [],
      "metadata": {
        "id": "Nf-kKYvYPxpA"
      },
      "execution_count": null,
      "outputs": []
    },
    {
      "cell_type": "markdown",
      "metadata": {
        "id": "v2hvqwHcZGF2"
      },
      "source": [
        "# Analysis Summary and Next Steps"
      ]
    },
    {
      "cell_type": "markdown",
      "metadata": {
        "id": "50qEWAK3ZGF3"
      },
      "source": [
        "\n",
        "**1. Data Analysis Key Findings:**\n",
        "\n",
        "*   The dataset contains 5572 SMS messages with labels indicating whether they are 'ham' (not spam) or 'spam'.\n",
        "*   There are no missing values in the dataset.\n",
        "*   The dataset is imbalanced, with a significantly higher number of 'ham' messages (4825) compared to 'spam' messages (747).\n",
        "*   The text data was preprocessed by removing punctuation, converting to lowercase, and removing stop words.\n",
        "*   The most common words in the preprocessed messages were identified, with 'u', 'call', and '2' being the most frequent.\n",
        "*   The distribution of message lengths shows that most messages are relatively short.\n",
        "*   A Logistic Regression model was trained on the TF-IDF vectorized text data to classify messages as spam or ham.\n",
        "*   The model achieved an accuracy of approximately 96.5%.\n",
        "*   The classification report shows high precision and recall for 'ham' messages, but slightly lower recall for 'spam' messages, which is expected given the class imbalance.\n",
        "*   The confusion matrix indicates that the model correctly classified most of the messages, with a small number of false positives and false negatives.\n",
        "\n",
        "**2. Insights or Next Steps:**\n",
        "\n",
        "*   The current model performs well, but the class imbalance might be affecting the performance on the 'spam' class.\n",
        "*   **Further exploration:** Investigate techniques to handle class imbalance, such as oversampling the minority class (spam) or undersampling the majority class (ham).\n",
        "*   **Model improvement:** Experiment with other text vectorization techniques (e.g., Word2Vec, GloVe) and different classification models (e.g., Naive Bayes, Support Vector Machines, or deep learning models like LSTMs or CNNs) to potentially improve performance, especially for detecting spam.\n",
        "*   **Error analysis:** Analyze the false positives and false negatives from the confusion matrix to understand why the model misclassified those messages and identify potential areas for improvement in preprocessing or feature engineering.\n",
        "*   **Deployment:** If the performance is satisfactory, the trained model can be saved and deployed to classify new, unseen SMS messages."
      ]
    },
    {
      "cell_type": "code",
      "source": [],
      "metadata": {
        "id": "U9GkJMMeZGF4"
      },
      "execution_count": null,
      "outputs": []
    },
    {
      "cell_type": "markdown",
      "metadata": {
        "id": "pix_8DqqZKdY"
      },
      "source": [
        "# Analysis Summary and Next Steps"
      ]
    },
    {
      "cell_type": "markdown",
      "metadata": {
        "id": "vfm1Vb-aZKdY"
      },
      "source": [
        "\n",
        "**1. Data Analysis Key Findings:**\n",
        "\n",
        "*   The dataset contains 5572 SMS messages with labels indicating whether they are 'ham' (not spam) or 'spam'.\n",
        "*   There are no missing values in the dataset.\n",
        "*   The dataset is imbalanced, with a significantly higher number of 'ham' messages (4825) compared to 'spam' messages (747).\n",
        "*   The text data was preprocessed by removing punctuation, converting to lowercase, and removing stop words.\n",
        "*   The most common words in the preprocessed messages were identified, with 'u', 'call', and '2' being the most frequent.\n",
        "*   The distribution of message lengths shows that most messages are relatively short.\n",
        "*   A Logistic Regression model was trained on the TF-IDF vectorized text data to classify messages as spam or ham.\n",
        "*   The model achieved an accuracy of approximately 96.5%.\n",
        "*   The classification report shows high precision and recall for 'ham' messages, but slightly lower recall for 'spam' messages, which is expected given the class imbalance.\n",
        "*   The confusion matrix indicates that the model correctly classified most of the messages, with a small number of false positives and false negatives.\n",
        "\n",
        "**2. Insights or Next Steps:**\n",
        "\n",
        "*   The current model performs well, but the class imbalance might be affecting the performance on the 'spam' class.\n",
        "*   **Further exploration:** Investigate techniques to handle class imbalance, such as oversampling the minority class (spam) or undersampling the majority class (ham).\n",
        "*   **Model improvement:** Experiment with other text vectorization techniques (e.g., Word2Vec, GloVe) and different classification models (e.g., Naive Bayes, Support Vector Machines, or deep learning models like LSTMs or CNNs) to potentially improve performance, especially for detecting spam.\n",
        "*   **Error analysis:** Analyze the false positives and false negatives from the confusion matrix to understand why the model misclassified those messages and identify potential areas for improvement in preprocessing or feature engineering.\n",
        "*   **Deployment:** If the performance is satisfactory, the trained model can be saved and deployed to classify new, unseen SMS messages."
      ]
    },
    {
      "cell_type": "code",
      "source": [],
      "metadata": {
        "id": "E9qrLgw-ZKdZ"
      },
      "execution_count": null,
      "outputs": []
    },
    {
      "cell_type": "markdown",
      "metadata": {
        "id": "06f47ad6"
      },
      "source": [
        "# Model Training and Evaluation (Support Vector Machine)"
      ]
    },
    {
      "cell_type": "code",
      "metadata": {
        "colab": {
          "base_uri": "https://localhost:8080/",
          "height": 260
        },
        "id": "b5983eb8",
        "outputId": "48e78e00-506f-4fb1-cd66-a2a3ee143d1a"
      },
      "source": [
        "from sklearn.svm import SVC\n",
        "from sklearn.model_selection import train_test_split\n",
        "from sklearn.feature_extraction.text import TfidfVectorizer\n",
        "from sklearn.metrics import accuracy_score, classification_report, confusion_matrix\n",
        "\n",
        "# Split data into training and testing sets\n",
        "X_train, X_test, y_train, y_test = train_test_split(df['message'], df['label'], test_size=0.25, random_state=42)\n",
        "\n",
        "# Vectorize the text data using TF-IDF\n",
        "tfidf_vectorizer = TfidfVectorizer(max_features=5000)\n",
        "X_train_tfidf = tfidf_vectorizer.fit_transform(X_train)\n",
        "X_test_tfidf = tfidf_vectorizer.transform(X_test)\n",
        "\n",
        "\n",
        "# Train a Support Vector Machine model\n",
        "svm_model = SVC(kernel='linear') # Using a linear kernel as a starting point\n",
        "svm_model.fit(X_train_tfidf, y_train)\n",
        "\n",
        "# Predict on the test set\n",
        "y_pred_svm = svm_model.predict(X_test_tfidf)\n",
        "\n",
        "# Evaluate the SVM model\n",
        "accuracy_svm = accuracy_score(y_test, y_pred_svm)\n",
        "classification_rep_svm = classification_report(y_test, y_pred_svm)\n",
        "conf_matrix_svm = confusion_matrix(y_test, y_pred_svm)\n",
        "\n",
        "print(f\"SVM Accuracy: {accuracy_svm}\")\n",
        "print(\"SVM Classification Report:\")\n",
        "print(classification_rep_svm)\n",
        "print(\"SVM Confusion Matrix:\")\n",
        "display(conf_matrix_svm)"
      ],
      "execution_count": null,
      "outputs": [
        {
          "output_type": "stream",
          "name": "stdout",
          "text": [
            "SVM Accuracy: 0.990667623833453\n",
            "SVM Classification Report:\n",
            "              precision    recall  f1-score   support\n",
            "\n",
            "           0       0.99      1.00      0.99      1207\n",
            "           1       1.00      0.93      0.96       186\n",
            "\n",
            "    accuracy                           0.99      1393\n",
            "   macro avg       0.99      0.97      0.98      1393\n",
            "weighted avg       0.99      0.99      0.99      1393\n",
            "\n",
            "SVM Confusion Matrix:\n"
          ]
        },
        {
          "output_type": "display_data",
          "data": {
            "text/plain": [
              "array([[1207,    0],\n",
              "       [  13,  173]])"
            ]
          },
          "metadata": {}
        }
      ]
    },
    {
      "cell_type": "markdown",
      "source": [
        "# **Performance Comparison: Logistic Regression and SVM models based on the results**"
      ],
      "metadata": {
        "id": "n5K7EYkVe8AD"
      }
    },
    {
      "cell_type": "markdown",
      "metadata": {
        "id": "0e072155"
      },
      "source": [
        "Let's compare the performance of the Logistic Regression and SVM models based on the results we obtained:\n",
        "\n",
        "**Logistic Regression Model:**\n",
        "\n",
        "Accuracy: 0.9648\n",
        "Classification Report:\n",
        "              precision    recall  f1-score   support\n",
        "\n",
        "           0       0.96      1.00      0.98      1207\n",
        "           1       0.99      0.74      0.85       186\n",
        "\n",
        "    accuracy                           0.96      1393\n",
        "   macro avg       0.98      0.87      0.91      1393\n",
        "weighted avg       0.97      0.96      0.96      1393\n",
        "Confusion Matrix:\n",
        "[[1206    1]\n",
        " [  48  138]]\n",
        "\n",
        "**Support Vector Machine (SVM) Model (with Linear Kernel):**\n",
        "\n",
        "Accuracy: 0.9907\n",
        "Classification Report:\n",
        "              precision    recall  f1-score   support\n",
        "\n",
        "           0       0.99      1.00      0.99      1207\n",
        "           1       1.00      0.93      0.96       186\n",
        "\n",
        "    accuracy                           0.99      1393\n",
        "   macro avg       0.99      0.97      0.98      1393\n",
        "weighted avg       0.99      0.99      0.99      1393\n",
        "Confusion Matrix:\n",
        "[[1207    0],\n",
        " [  13  173]]\n",
        "\n",
        "**Comparison Summary:**\n",
        "\n",
        "*   **Accuracy:** The SVM model shows a noticeable improvement in overall accuracy (99.07%) compared to Logistic Regression (96.48%).\n",
        "*   **Precision (Spam - Class 1):** Both models have very high precision for predicting spam (0.99 for Logistic Regression and 1.00 for SVM). This means that when they predict a message is spam, it is very likely to actually be spam.\n",
        "*   **Recall (Spam - Class 1):** This is where the SVM model significantly outperforms Logistic Regression. The SVM model correctly identifies 93% of the actual spam messages (recall = 0.93), while the Logistic Regression model only identifies 74% (recall = 0.74). This is crucial for a spam filter, as you want to catch as much spam as possible.\n",
        "*   **F1-score (Spam - Class 1):** The F1-score, which is the harmonic mean of precision and recall, is also higher for the SVM model (0.96) compared to Logistic Regression (0.85), reflecting its better balance between precision and recall for the spam class.\n",
        "*   **Confusion Matrix:**\n",
        "    *   **True Positives (Spam correctly identified):** SVM has more true positives (173) than Logistic Regression (138).\n",
        "    *   **False Negatives (Spam incorrectly classified as Ham):** SVM has significantly fewer false negatives (13) than Logistic Regression (48). This aligns with the higher recall for spam.\n",
        "    *   **True Negatives (Ham correctly identified):** Both models are very good at identifying ham messages.\n",
        "    *   **False Positives (Ham incorrectly classified as Spam):** The Logistic Regression model had 1 false positive, while the SVM model had 0 false positives. This means the SVM model, in this specific test set, did not flag any legitimate ham messages as spam.\n",
        "\n",
        "**Conclusion:**\n",
        "\n",
        "Based on these metrics, the Support Vector Machine model with a linear kernel performed better than the Logistic Regression model for this spam detection task, particularly in its ability to correctly identify spam messages (higher recall and F1-score for the spam class, and fewer false negatives)."
      ]
    },
    {
      "cell_type": "markdown",
      "metadata": {
        "id": "OjDKj0plZRQa"
      },
      "source": [
        "# Analysis Summary and Next Steps"
      ]
    },
    {
      "cell_type": "markdown",
      "metadata": {
        "id": "M7-d0ZkNZRQa"
      },
      "source": [
        "\n",
        "**1. Data Analysis Key Findings:**\n",
        "\n",
        "*   The dataset contains 5572 SMS messages with labels indicating whether they are 'ham' (not spam) or 'spam'.\n",
        "*   There are no missing values in the dataset.\n",
        "*   The dataset is imbalanced, with a significantly higher number of 'ham' messages (4825) compared to 'spam' messages (747).\n",
        "*   The text data was preprocessed by removing punctuation, converting to lowercase, and removing stop words.\n",
        "*   The most common words in the preprocessed messages were identified, with 'u', 'call', and '2' being the most frequent.\n",
        "*   The distribution of message lengths shows that most messages are relatively short.\n",
        "*   A Logistic Regression model was trained on the TF-IDF vectorized text data to classify messages as spam or ham.\n",
        "*   The model achieved an accuracy of approximately 96.5%.\n",
        "*   The classification report shows high precision and recall for 'ham' messages, but slightly lower recall for 'spam' messages, which is expected given the class imbalance.\n",
        "*   The confusion matrix indicates that the model correctly classified most of the messages, with a small number of false positives and false negatives.\n",
        "\n",
        "**2. Insights or Next Steps:**\n",
        "\n",
        "*   The current model performs well, but the class imbalance might be affecting the performance on the 'spam' class.\n",
        "*   **Further exploration:** Investigate techniques to handle class imbalance, such as oversampling the minority class (spam) or undersampling the majority class (ham).\n",
        "*   **Model improvement:** Experiment with other text vectorization techniques (e.g., Word2Vec, GloVe) and different classification models (e.g., Naive Bayes, Support Vector Machines, or deep learning models like LSTMs or CNNs) to potentially improve performance, especially for detecting spam.\n",
        "*   **Error analysis:** Analyze the false positives and false negatives from the confusion matrix to understand why the model misclassified those messages and identify potential areas for improvement in preprocessing or feature engineering.\n",
        "*   **Deployment:** If the performance is satisfactory, the trained model can be saved and deployed to classify new, unseen SMS messages."
      ]
    }
  ]
}